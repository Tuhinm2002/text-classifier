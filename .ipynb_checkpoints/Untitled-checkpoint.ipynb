{
 "cells": [
  {
   "cell_type": "code",
   "execution_count": 1,
   "id": "02e3f3b9",
   "metadata": {},
   "outputs": [],
   "source": [
    "import re\n",
    "import json\n",
    "import csv\n",
    "import numpy as np"
   ]
  },
  {
   "cell_type": "code",
   "execution_count": 2,
   "id": "0fd6f096",
   "metadata": {},
   "outputs": [],
   "source": [
    "import sklearn\n",
    "from nltk.tokenize import word_tokenize\n",
    "from nltk.corpus import stopwords\n"
   ]
  },
  {
   "cell_type": "code",
   "execution_count": 3,
   "id": "d772cea3",
   "metadata": {},
   "outputs": [],
   "source": [
    "from nltk.stem.porter import PorterStemmer\n",
    "from nltk.stem.wordnet import WordNetLemmatizer"
   ]
  },
  {
   "cell_type": "code",
   "execution_count": 4,
   "id": "61520d1d",
   "metadata": {},
   "outputs": [
    {
     "name": "stderr",
     "output_type": "stream",
     "text": [
      "[nltk_data] Downloading package stopwords to /home/tuhin/nltk_data...\n",
      "[nltk_data]   Package stopwords is already up-to-date!\n",
      "[nltk_data] Downloading package punkt to /home/tuhin/nltk_data...\n",
      "[nltk_data]   Package punkt is already up-to-date!\n",
      "[nltk_data] Downloading package wordnet to /home/tuhin/nltk_data...\n",
      "[nltk_data]   Package wordnet is already up-to-date!\n"
     ]
    },
    {
     "data": {
      "text/plain": [
       "True"
      ]
     },
     "execution_count": 4,
     "metadata": {},
     "output_type": "execute_result"
    }
   ],
   "source": [
    "import string\n",
    "import pandas as pd\n",
    "import nltk\n",
    "nltk.download('stopwords')\n",
    "nltk.download('punkt')\n",
    "nltk.download('wordnet')\n"
   ]
  },
  {
   "cell_type": "code",
   "execution_count": 5,
   "id": "df7a0e27",
   "metadata": {},
   "outputs": [],
   "source": [
    "data1=pd.read_csv(\"spam.csv\")"
   ]
  },
  {
   "cell_type": "code",
   "execution_count": 6,
   "id": "de820058",
   "metadata": {},
   "outputs": [],
   "source": [
    "with open(\"Sarcasm_Headlines_Dataset_v2.json\",\"r\") as f:\n",
    "    data2 = [json.loads(line) for line in f]"
   ]
  },
  {
   "cell_type": "code",
   "execution_count": 7,
   "id": "acf8af11",
   "metadata": {},
   "outputs": [],
   "source": [
    "with open(\"Sarcasm_Headlines_Dataset.json\",\"r\") as f:\n",
    "    data3 = [json.loads(line) for line in f]"
   ]
  },
  {
   "cell_type": "code",
   "execution_count": 8,
   "id": "988334c3",
   "metadata": {},
   "outputs": [],
   "source": [
    "file=open(\"training.1600000.processed.noemoticon.csv\",encoding = 'Latin-1')\n",
    "s_reader=[i for i in csv.reader(file)]"
   ]
  },
  {
   "cell_type": "code",
   "execution_count": 9,
   "id": "802bc327",
   "metadata": {},
   "outputs": [
    {
     "data": {
      "text/plain": [
       "['0',\n",
       " \"Humbug, painting took slightly to long. finished okay but cleaning brushes meant I couldn't get the train. 2 hours to wait \"]"
      ]
     },
     "execution_count": 9,
     "metadata": {},
     "output_type": "execute_result"
    }
   ],
   "source": [
    "s_reader[232720][0:6:5]"
   ]
  },
  {
   "cell_type": "code",
   "execution_count": 10,
   "id": "bff0bbe5",
   "metadata": {},
   "outputs": [],
   "source": [
    "data4=[j for a in s_reader for j in a[0:1]]"
   ]
  },
  {
   "cell_type": "code",
   "execution_count": 11,
   "id": "021b6904",
   "metadata": {},
   "outputs": [],
   "source": [
    "data4_=[j for a in s_reader for j in a[5:6]]"
   ]
  },
  {
   "cell_type": "code",
   "execution_count": 12,
   "id": "42f3bb22",
   "metadata": {},
   "outputs": [
    {
     "data": {
      "text/plain": [
       "(1600000, 1600000)"
      ]
     },
     "execution_count": 12,
     "metadata": {},
     "output_type": "execute_result"
    }
   ],
   "source": [
    "len(data4),len(data4_)"
   ]
  },
  {
   "cell_type": "code",
   "execution_count": 13,
   "id": "31b2f76a",
   "metadata": {},
   "outputs": [],
   "source": [
    "file=open(\"test.ft.txt\",encoding=\"utf8\")\n",
    "reader=file.readlines()"
   ]
  },
  {
   "cell_type": "code",
   "execution_count": 14,
   "id": "ed876450",
   "metadata": {},
   "outputs": [],
   "source": [
    "data6=[j for a in reader for j in a.split(\":\")[0][9] if j.isnumeric()]"
   ]
  },
  {
   "cell_type": "code",
   "execution_count": 15,
   "id": "6de647d6",
   "metadata": {},
   "outputs": [],
   "source": [
    "data6_=[a[10:] for a in reader]"
   ]
  },
  {
   "cell_type": "code",
   "execution_count": 16,
   "id": "14b87d8d",
   "metadata": {},
   "outputs": [
    {
     "data": {
      "text/plain": [
       "(400000, 400000)"
      ]
     },
     "execution_count": 16,
     "metadata": {},
     "output_type": "execute_result"
    }
   ],
   "source": [
    "len(data6),len(data6_)"
   ]
  },
  {
   "cell_type": "code",
   "execution_count": 17,
   "id": "bd4ae0b7",
   "metadata": {},
   "outputs": [],
   "source": [
    "file1=open(\"train.ft.txt\",encoding=\"utf8\")\n",
    "reader1=file1.readlines()"
   ]
  },
  {
   "cell_type": "code",
   "execution_count": 18,
   "id": "3736246a",
   "metadata": {},
   "outputs": [],
   "source": [
    "data7=[]\n",
    "data7_=[]"
   ]
  },
  {
   "cell_type": "code",
   "execution_count": 19,
   "id": "fe5b9e16",
   "metadata": {},
   "outputs": [],
   "source": [
    "for a in reader1:\n",
    "    if a.split(\":\")[0][9].isnumeric():\n",
    "        data7.append(a.split(\":\")[0][9])"
   ]
  },
  {
   "cell_type": "code",
   "execution_count": 20,
   "id": "30ed22cf",
   "metadata": {},
   "outputs": [],
   "source": [
    "for j in reader1:\n",
    "    data7_.append(j[10:])"
   ]
  },
  {
   "cell_type": "code",
   "execution_count": 21,
   "id": "a7daa0fc",
   "metadata": {},
   "outputs": [],
   "source": [
    "data3_label=[i[\"is_sarcastic\"] for i in data3]\n",
    "data3_=[k[\"headline\"] for k in data3]"
   ]
  },
  {
   "cell_type": "code",
   "execution_count": 22,
   "id": "ef266bec",
   "metadata": {},
   "outputs": [],
   "source": [
    "data2_label=[j[\"is_sarcastic\"] for j in data2]\n",
    "data2_=[k[\"headline\"] for k in data2]"
   ]
  },
  {
   "cell_type": "code",
   "execution_count": 23,
   "id": "4dbfde2c",
   "metadata": {},
   "outputs": [],
   "source": [
    "data1_=[]\n",
    "for i in data1.iloc[:,0]:\n",
    "    data1_.append(i)"
   ]
  },
  {
   "cell_type": "code",
   "execution_count": 24,
   "id": "85401fe3",
   "metadata": {},
   "outputs": [],
   "source": [
    "data1_label=[]\n",
    "for i in data1.iloc[:,1]:\n",
    "    data1_label.append(i)"
   ]
  },
  {
   "cell_type": "code",
   "execution_count": 25,
   "id": "9f983c22",
   "metadata": {},
   "outputs": [
    {
     "name": "stdout",
     "output_type": "stream",
     "text": [
      "In data1 <class 'int'>\n",
      "In data2 <class 'int'>\n",
      "In data3 <class 'int'>\n",
      "In data4 <class 'str'>\n",
      "In data6 <class 'str'>\n",
      "In data7 <class 'str'>\n"
     ]
    },
    {
     "data": {
      "text/plain": [
       "(None, None, None, None, None, None)"
      ]
     },
     "execution_count": 25,
     "metadata": {},
     "output_type": "execute_result"
    }
   ],
   "source": [
    "print(\"In data1\",type(data1_label[1])),print(\"In data2\",type(data2_label[1])),print(\"In data3\",type(data3_label[1])),print(\"In data4\",type(data4[1])),print(\"In data6\",type(data6[1])),print(\"In data7\",type(data7[1]))"
   ]
  },
  {
   "cell_type": "code",
   "execution_count": 26,
   "id": "20348ad7",
   "metadata": {},
   "outputs": [
    {
     "data": {
      "text/plain": [
       "(5728, 5728)"
      ]
     },
     "execution_count": 26,
     "metadata": {},
     "output_type": "execute_result"
    }
   ],
   "source": [
    "len(data1_),len(data1_label)"
   ]
  },
  {
   "cell_type": "code",
   "execution_count": 27,
   "id": "bb5a9358",
   "metadata": {},
   "outputs": [],
   "source": [
    "data4_label=[int(i) for i in data4]"
   ]
  },
  {
   "cell_type": "code",
   "execution_count": 28,
   "id": "9f6746d2",
   "metadata": {},
   "outputs": [
    {
     "data": {
      "text/plain": [
       "True"
      ]
     },
     "execution_count": 28,
     "metadata": {},
     "output_type": "execute_result"
    }
   ],
   "source": [
    "len(data4)==len(data4_label)"
   ]
  },
  {
   "cell_type": "code",
   "execution_count": 29,
   "id": "ad317f08",
   "metadata": {},
   "outputs": [],
   "source": [
    "data6_label=[int(i) for i in data6]"
   ]
  },
  {
   "cell_type": "code",
   "execution_count": 30,
   "id": "e32c1fa7",
   "metadata": {},
   "outputs": [
    {
     "data": {
      "text/plain": [
       "True"
      ]
     },
     "execution_count": 30,
     "metadata": {},
     "output_type": "execute_result"
    }
   ],
   "source": [
    "len(data6)==len(data6_label)"
   ]
  },
  {
   "cell_type": "code",
   "execution_count": 31,
   "id": "e7157328",
   "metadata": {},
   "outputs": [],
   "source": [
    "data7_label=[int(i) for i in data7]"
   ]
  },
  {
   "cell_type": "code",
   "execution_count": 32,
   "id": "99fa5ab8",
   "metadata": {},
   "outputs": [
    {
     "data": {
      "text/plain": [
       "True"
      ]
     },
     "execution_count": 32,
     "metadata": {},
     "output_type": "execute_result"
    }
   ],
   "source": [
    "len(data7)==len(data7_label)"
   ]
  },
  {
   "cell_type": "code",
   "execution_count": 33,
   "id": "decd064e",
   "metadata": {
    "scrolled": true
   },
   "outputs": [
    {
     "name": "stdout",
     "output_type": "stream",
     "text": [
      "[0 4]\n",
      "[1 2]\n",
      "[1 2]\n"
     ]
    }
   ],
   "source": [
    "data4_np=np.array(data4_label)\n",
    "data6_np=np.array(data6_label)\n",
    "data7_np=np.array(data7_label)\n",
    "\n",
    "print(np.unique(data4_np))\n",
    "print(np.unique(data6_np))\n",
    "print(np.unique(data7_np))"
   ]
  },
  {
   "cell_type": "code",
   "execution_count": 34,
   "id": "92de950e",
   "metadata": {},
   "outputs": [],
   "source": [
    "data2_label_=[]\n",
    "for i in data2_label:\n",
    "    if i==0:\n",
    "        data2_label_.append(int(str(i).replace(\"0\",\"2\")))\n",
    "    else:\n",
    "        data2_label_.append(int(str(i).replace(\"1\",\"3\")))"
   ]
  },
  {
   "cell_type": "code",
   "execution_count": 35,
   "id": "56036d66",
   "metadata": {},
   "outputs": [],
   "source": [
    "data3_label_=[]\n",
    "\n",
    "for j in data3_label:\n",
    "    if j==0:\n",
    "        data3_label_.append(int(str(j).replace(\"0\",\"2\")))\n",
    "    else:\n",
    "        data3_label_.append(int(str(j).replace(\"1\",\"3\")))"
   ]
  },
  {
   "cell_type": "code",
   "execution_count": 36,
   "id": "f05fe43d",
   "metadata": {},
   "outputs": [],
   "source": [
    "data4_label_=[]\n",
    "for k in data4_label:\n",
    "    if k==0:\n",
    "        data4_label_.append(int(str(k).replace(\"0\",\"5\")))\n",
    "    elif k==4:\n",
    "        data4_label_.append(4)"
   ]
  },
  {
   "cell_type": "code",
   "execution_count": 37,
   "id": "694d5d80",
   "metadata": {},
   "outputs": [
    {
     "data": {
      "text/plain": [
       "(1600000, 1600000)"
      ]
     },
     "execution_count": 37,
     "metadata": {},
     "output_type": "execute_result"
    }
   ],
   "source": [
    "len(data4_label),len(data4_label_)"
   ]
  },
  {
   "cell_type": "code",
   "execution_count": 38,
   "id": "19866b05",
   "metadata": {},
   "outputs": [],
   "source": [
    "data6_label_=[]\n",
    "for a in data6_label:\n",
    "    if a==1:\n",
    "        data6_label_.append(int(str(a).replace(\"1\",\"6\")))\n",
    "    elif a==2:\n",
    "        data6_label_.append(int(str(a).replace(\"2\",\"7\")))\n",
    "        \n"
   ]
  },
  {
   "cell_type": "code",
   "execution_count": 39,
   "id": "db2c5fd1",
   "metadata": {},
   "outputs": [],
   "source": [
    "data7_label_=[]\n",
    "for h in data7_label:\n",
    "    if h==1:\n",
    "        data7_label_.append(int(str(h).replace(\"1\",\"6\")))\n",
    "    elif h==2:\n",
    "        data7_label_.append(int(str(h).replace(\"2\",\"7\")))\n",
    "        "
   ]
  },
  {
   "cell_type": "code",
   "execution_count": 40,
   "id": "5f20bf4c",
   "metadata": {},
   "outputs": [],
   "source": [
    "reader3=pd.read_csv(\"train.tsv\",sep='\\t')"
   ]
  },
  {
   "cell_type": "code",
   "execution_count": 41,
   "id": "730d59e5",
   "metadata": {},
   "outputs": [
    {
     "data": {
      "text/html": [
       "<div>\n",
       "<style scoped>\n",
       "    .dataframe tbody tr th:only-of-type {\n",
       "        vertical-align: middle;\n",
       "    }\n",
       "\n",
       "    .dataframe tbody tr th {\n",
       "        vertical-align: top;\n",
       "    }\n",
       "\n",
       "    .dataframe thead th {\n",
       "        text-align: right;\n",
       "    }\n",
       "</style>\n",
       "<table border=\"1\" class=\"dataframe\">\n",
       "  <thead>\n",
       "    <tr style=\"text-align: right;\">\n",
       "      <th></th>\n",
       "      <th>PhraseId</th>\n",
       "      <th>SentenceId</th>\n",
       "      <th>Phrase</th>\n",
       "      <th>Sentiment</th>\n",
       "    </tr>\n",
       "  </thead>\n",
       "  <tbody>\n",
       "    <tr>\n",
       "      <th>0</th>\n",
       "      <td>1</td>\n",
       "      <td>1</td>\n",
       "      <td>A series of escapades demonstrating the adage ...</td>\n",
       "      <td>1</td>\n",
       "    </tr>\n",
       "    <tr>\n",
       "      <th>1</th>\n",
       "      <td>2</td>\n",
       "      <td>1</td>\n",
       "      <td>A series of escapades demonstrating the adage ...</td>\n",
       "      <td>2</td>\n",
       "    </tr>\n",
       "    <tr>\n",
       "      <th>2</th>\n",
       "      <td>3</td>\n",
       "      <td>1</td>\n",
       "      <td>A series</td>\n",
       "      <td>2</td>\n",
       "    </tr>\n",
       "    <tr>\n",
       "      <th>3</th>\n",
       "      <td>4</td>\n",
       "      <td>1</td>\n",
       "      <td>A</td>\n",
       "      <td>2</td>\n",
       "    </tr>\n",
       "    <tr>\n",
       "      <th>4</th>\n",
       "      <td>5</td>\n",
       "      <td>1</td>\n",
       "      <td>series</td>\n",
       "      <td>2</td>\n",
       "    </tr>\n",
       "    <tr>\n",
       "      <th>...</th>\n",
       "      <td>...</td>\n",
       "      <td>...</td>\n",
       "      <td>...</td>\n",
       "      <td>...</td>\n",
       "    </tr>\n",
       "    <tr>\n",
       "      <th>156055</th>\n",
       "      <td>156056</td>\n",
       "      <td>8544</td>\n",
       "      <td>Hearst 's</td>\n",
       "      <td>2</td>\n",
       "    </tr>\n",
       "    <tr>\n",
       "      <th>156056</th>\n",
       "      <td>156057</td>\n",
       "      <td>8544</td>\n",
       "      <td>forced avuncular chortles</td>\n",
       "      <td>1</td>\n",
       "    </tr>\n",
       "    <tr>\n",
       "      <th>156057</th>\n",
       "      <td>156058</td>\n",
       "      <td>8544</td>\n",
       "      <td>avuncular chortles</td>\n",
       "      <td>3</td>\n",
       "    </tr>\n",
       "    <tr>\n",
       "      <th>156058</th>\n",
       "      <td>156059</td>\n",
       "      <td>8544</td>\n",
       "      <td>avuncular</td>\n",
       "      <td>2</td>\n",
       "    </tr>\n",
       "    <tr>\n",
       "      <th>156059</th>\n",
       "      <td>156060</td>\n",
       "      <td>8544</td>\n",
       "      <td>chortles</td>\n",
       "      <td>2</td>\n",
       "    </tr>\n",
       "  </tbody>\n",
       "</table>\n",
       "<p>156060 rows × 4 columns</p>\n",
       "</div>"
      ],
      "text/plain": [
       "        PhraseId  SentenceId  \\\n",
       "0              1           1   \n",
       "1              2           1   \n",
       "2              3           1   \n",
       "3              4           1   \n",
       "4              5           1   \n",
       "...          ...         ...   \n",
       "156055    156056        8544   \n",
       "156056    156057        8544   \n",
       "156057    156058        8544   \n",
       "156058    156059        8544   \n",
       "156059    156060        8544   \n",
       "\n",
       "                                                   Phrase  Sentiment  \n",
       "0       A series of escapades demonstrating the adage ...          1  \n",
       "1       A series of escapades demonstrating the adage ...          2  \n",
       "2                                                A series          2  \n",
       "3                                                       A          2  \n",
       "4                                                  series          2  \n",
       "...                                                   ...        ...  \n",
       "156055                                          Hearst 's          2  \n",
       "156056                          forced avuncular chortles          1  \n",
       "156057                                 avuncular chortles          3  \n",
       "156058                                          avuncular          2  \n",
       "156059                                           chortles          2  \n",
       "\n",
       "[156060 rows x 4 columns]"
      ]
     },
     "execution_count": 41,
     "metadata": {},
     "output_type": "execute_result"
    }
   ],
   "source": [
    "reader3"
   ]
  },
  {
   "cell_type": "code",
   "execution_count": 42,
   "id": "f5541d57",
   "metadata": {},
   "outputs": [],
   "source": [
    "data5=[]\n",
    "data5_=[]"
   ]
  },
  {
   "cell_type": "code",
   "execution_count": 43,
   "id": "33082c8f",
   "metadata": {},
   "outputs": [
    {
     "data": {
      "text/plain": [
       "156060"
      ]
     },
     "execution_count": 43,
     "metadata": {},
     "output_type": "execute_result"
    }
   ],
   "source": [
    "len(reader3)"
   ]
  },
  {
   "cell_type": "code",
   "execution_count": 44,
   "id": "06b09fbe",
   "metadata": {},
   "outputs": [],
   "source": [
    "for k in range(len(reader3)):\n",
    "    if reader3.Sentiment[k]==2:\n",
    "        data5_.append(reader3.Phrase[k])"
   ]
  },
  {
   "cell_type": "code",
   "execution_count": 45,
   "id": "55a94927",
   "metadata": {},
   "outputs": [],
   "source": [
    "for j in range(len(reader3)):\n",
    "    if reader3.Sentiment[j]==2:\n",
    "        data5.append(reader3.Sentiment[j])"
   ]
  },
  {
   "cell_type": "code",
   "execution_count": 46,
   "id": "046b6c23",
   "metadata": {},
   "outputs": [
    {
     "data": {
      "text/plain": [
       "True"
      ]
     },
     "execution_count": 46,
     "metadata": {},
     "output_type": "execute_result"
    }
   ],
   "source": [
    "len(data5_)==len(data5)"
   ]
  },
  {
   "cell_type": "code",
   "execution_count": 47,
   "id": "5f950d8b",
   "metadata": {},
   "outputs": [],
   "source": [
    "data5_label=[int(str(i).replace(\"2\",\"8\")) for i in data5]"
   ]
  },
  {
   "cell_type": "code",
   "execution_count": 48,
   "id": "775d6e37",
   "metadata": {},
   "outputs": [
    {
     "data": {
      "text/plain": [
       "True"
      ]
     },
     "execution_count": 48,
     "metadata": {},
     "output_type": "execute_result"
    }
   ],
   "source": [
    "len(data5_label)==len(data5)"
   ]
  },
  {
   "cell_type": "code",
   "execution_count": 49,
   "id": "54c30506",
   "metadata": {},
   "outputs": [
    {
     "data": {
      "text/plain": [
       "int"
      ]
     },
     "execution_count": 49,
     "metadata": {},
     "output_type": "execute_result"
    }
   ],
   "source": [
    "type(data5_label[1])"
   ]
  },
  {
   "cell_type": "code",
   "execution_count": 83,
   "id": "31314edd",
   "metadata": {},
   "outputs": [],
   "source": [
    "data=[]\n",
    "label=[]"
   ]
  },
  {
   "cell_type": "code",
   "execution_count": 84,
   "id": "7ae043e7",
   "metadata": {},
   "outputs": [
    {
     "data": {
      "text/plain": [
       "(0, 0)"
      ]
     },
     "execution_count": 84,
     "metadata": {},
     "output_type": "execute_result"
    }
   ],
   "source": [
    "len(data),len(label)"
   ]
  },
  {
   "cell_type": "code",
   "execution_count": 85,
   "id": "1c0b308b",
   "metadata": {},
   "outputs": [
    {
     "data": {
      "text/plain": [
       "0"
      ]
     },
     "execution_count": 85,
     "metadata": {},
     "output_type": "execute_result"
    }
   ],
   "source": [
    "data4_label[150000]"
   ]
  },
  {
   "cell_type": "code",
   "execution_count": 86,
   "id": "50f19dcb",
   "metadata": {},
   "outputs": [
    {
     "data": {
      "text/plain": [
       "(3600000, 3600000)"
      ]
     },
     "execution_count": 86,
     "metadata": {},
     "output_type": "execute_result"
    }
   ],
   "source": [
    "len(data7_),len(data7_label_)"
   ]
  },
  {
   "cell_type": "code",
   "execution_count": 87,
   "id": "83b16877",
   "metadata": {},
   "outputs": [],
   "source": [
    "for j in data1_label:\n",
    "    label.append(j)"
   ]
  },
  {
   "cell_type": "code",
   "execution_count": 88,
   "id": "000f9689",
   "metadata": {},
   "outputs": [],
   "source": [
    "for j in data2_label_:\n",
    "    label.append(j)"
   ]
  },
  {
   "cell_type": "code",
   "execution_count": 89,
   "id": "d591311d",
   "metadata": {},
   "outputs": [],
   "source": [
    "for j in data3_label_:\n",
    "    label.append(j)"
   ]
  },
  {
   "cell_type": "code",
   "execution_count": 90,
   "id": "67ec6740",
   "metadata": {},
   "outputs": [],
   "source": [
    "for j in data4_label_:\n",
    "    label.append(j)"
   ]
  },
  {
   "cell_type": "code",
   "execution_count": 91,
   "id": "f1f26431",
   "metadata": {},
   "outputs": [],
   "source": [
    "for j in data5_label:\n",
    "    label.append(j)"
   ]
  },
  {
   "cell_type": "code",
   "execution_count": 92,
   "id": "90855ea8",
   "metadata": {},
   "outputs": [],
   "source": [
    "for j in data6_label_:\n",
    "    label.append(j)"
   ]
  },
  {
   "cell_type": "code",
   "execution_count": 93,
   "id": "58e23a7a",
   "metadata": {},
   "outputs": [],
   "source": [
    "for j in data7_label_:\n",
    "    label.append(j)"
   ]
  },
  {
   "cell_type": "code",
   "execution_count": 94,
   "id": "8b537867",
   "metadata": {},
   "outputs": [
    {
     "data": {
      "text/plain": [
       "(0, 1600000)"
      ]
     },
     "execution_count": 94,
     "metadata": {},
     "output_type": "execute_result"
    }
   ],
   "source": [
    "len(data),len(data4_)"
   ]
  },
  {
   "cell_type": "code",
   "execution_count": 95,
   "id": "68afaab5",
   "metadata": {},
   "outputs": [
    {
     "data": {
      "text/plain": [
       "False"
      ]
     },
     "execution_count": 95,
     "metadata": {},
     "output_type": "execute_result"
    }
   ],
   "source": [
    "len(label)==len(data)"
   ]
  },
  {
   "cell_type": "code",
   "execution_count": 96,
   "id": "72420947",
   "metadata": {},
   "outputs": [
    {
     "data": {
      "text/plain": [
       "str"
      ]
     },
     "execution_count": 96,
     "metadata": {},
     "output_type": "execute_result"
    }
   ],
   "source": [
    "type(data6_[1])"
   ]
  },
  {
   "cell_type": "code",
   "execution_count": 97,
   "id": "132196f2",
   "metadata": {},
   "outputs": [],
   "source": [
    "from sklearn.feature_extraction.text import CountVectorizer"
   ]
  },
  {
   "cell_type": "code",
   "execution_count": 98,
   "id": "85e05dc7",
   "metadata": {},
   "outputs": [
    {
     "data": {
      "text/plain": [
       "str"
      ]
     },
     "execution_count": 98,
     "metadata": {},
     "output_type": "execute_result"
    }
   ],
   "source": [
    "type(data1_[1])"
   ]
  },
  {
   "cell_type": "code",
   "execution_count": 99,
   "id": "c7c052bc",
   "metadata": {},
   "outputs": [],
   "source": [
    "cv=CountVectorizer()"
   ]
  },
  {
   "cell_type": "code",
   "execution_count": 100,
   "id": "68810a80",
   "metadata": {},
   "outputs": [],
   "source": [
    "for a in data1_:\n",
    "    data.append(a)\n",
    "for j in data2_:\n",
    "    data.append(j)\n",
    "for i in data3_:\n",
    "    data.append(i)\n",
    "for o in data4_:\n",
    "    data.append(o)\n",
    "for k in data6_:\n",
    "    data.append(k)\n",
    "for n in data7_:\n",
    "    data.append(n)\n",
    "for m in data5_:\n",
    "    data.append(m)"
   ]
  },
  {
   "cell_type": "code",
   "execution_count": 102,
   "id": "f38ffd70",
   "metadata": {},
   "outputs": [
    {
     "data": {
      "text/plain": [
       "True"
      ]
     },
     "execution_count": 102,
     "metadata": {},
     "output_type": "execute_result"
    }
   ],
   "source": [
    "len(data)==len(label)"
   ]
  },
  {
   "cell_type": "code",
   "execution_count": null,
   "id": "6338b4f9",
   "metadata": {},
   "outputs": [],
   "source": [
    "data_=cv.fit_transform(data)"
   ]
  },
  {
   "cell_type": "code",
   "execution_count": null,
   "id": "00522684",
   "metadata": {},
   "outputs": [],
   "source": []
  },
  {
   "cell_type": "code",
   "execution_count": null,
   "id": "521f1a6b",
   "metadata": {},
   "outputs": [],
   "source": []
  }
 ],
 "metadata": {
  "kernelspec": {
   "display_name": "Python 3 (ipykernel)",
   "language": "python",
   "name": "python3"
  },
  "language_info": {
   "codemirror_mode": {
    "name": "ipython",
    "version": 3
   },
   "file_extension": ".py",
   "mimetype": "text/x-python",
   "name": "python",
   "nbconvert_exporter": "python",
   "pygments_lexer": "ipython3",
   "version": "3.8.10"
  }
 },
 "nbformat": 4,
 "nbformat_minor": 5
}
